{
 "cells": [
  {
   "cell_type": "markdown",
   "metadata": {},
   "source": [
    "# セッションの説明\n",
    "## タイトル\n",
    "\n",
    "Pythonデータハンドリングチュートリアル\n",
    "\n",
    "## 内容\n",
    "\n",
    "Pythonで機械学習などを行う際のデータハンドリングにフォーカスしたチュートリアルです。\n",
    "\n",
    "Webブラウザで実行できる、Jupyter Notebookを用います。実行した内容はGithubで公開しますので、詳細の動きは後から自分自身で 復習できます。\n",
    "\n",
    "\n",
    "## 目次\n",
    "\n",
    "- NumPyでデータを扱う\n",
    "- NumPyで各種計算 (UFunction / BroadCast)\n",
    "- pandasでデータの読み込み・書き込み\n",
    "- pandasでデータの整形\n",
    "- pandasで時系列データの扱い\n",
    "- pandasでデータ連結など\n",
    "- pandasで統計データの出力\n",
    "- SciPyで統計処理\n",
    "\n",
    "\n",
    "## 使用ツール\n",
    "\n",
    "詳細のバージョンは、変更になる可能性があります。\n",
    "\n",
    "- Python 3.6.1 : https://docs.python.jp/3/\n",
    "- NumPy 1.13.3 : https://docs.scipy.org/doc/\n",
    "- SciPy 1.0.0: https://docs.scipy.org/doc/\n",
    "- pandas 0.21.1 : http://pandas.pydata.org/pandas-docs/stable/\n",
    "- matplotlib 2.1.1 : https://matplotlib.org/contents.html\n",
    "- jupyter　1.0.0　: http://jupyter-notebook.readthedocs.io/en/latest/\n",
    "\n",
    "## セットアップ方法\n",
    "\n",
    "```\n",
    "$ python3 -m venv env\n",
    "$ source env/bin/activate\n",
    "(env) $ pip install -r requirements.txt\n",
    "```\n",
    "\n",
    "## 資料の公開\n",
    "\n",
    "このドキュメントを含めて、github上で公開しています。\n",
    "\n",
    "https://github.com/terapyon/python-maschinelearning-tutorial\n",
    "\n",
    "ライセンスは、MIT Licenseです。詳細は、 LICENSE を参照のこと\n",
    "\n",
    "## このセッションで理解してほしいこと\n",
    "\n",
    "TBD\n",
    "\n",
    "# 自己紹介\n",
    "\n",
    "- 寺田　学　 @terapyon\n",
    "- 一般社団法人PyCon JP 代表理事\n",
    "- (株)CMSコミュニケーションズ 代表\n",
    "- Pythonを使ったWeb技術を中心に業務でPythonを使っている\n",
    "- Python製CMSツールのPloneのコアコミッター\n",
    "- その他、OSS系のコミュニティに所属\n",
    "\n",
    "# 協力者\n",
    "\n",
    "- レビュー: 辻 真吾さん (@tsjshg)\n",
    "\n",
    "## 参考資料\n",
    "\n",
    "### 姉妹チュートリアル\n",
    "\n",
    "Python 機械学習ことはじめ\n",
    "https://github.com/terapyon/python-machinelearning-tutorial\n",
    "\n",
    "### 書籍の紹介\n",
    "\n",
    "#### プログラミング初学者\n",
    "\n",
    "- スラスラわかるPython : 　http://amzn.to/2r1P8nG\n",
    "\n",
    "#### Python\n",
    "\n",
    "- Pythonチュートリアル 第3版: http://amzn.to/2saXIEJ (これがある程度理解できたら初級卒業)\n",
    "- Pythonエンジニア ファーストブック: http://amzn.to/2wRpBEr (Pythonの活用方法を解説: データ解析についての章もある)\n",
    "- Effective Python: http://amzn.to/2sJZE4f (中級な人向け)\n",
    "- **非推奨** 入門 Python 3\n",
    "\n",
    "#### データ系\n",
    "\n",
    "- 10分でわかるPandas (公式サイト) : http://pandas.pydata.org/pandas-docs/stable/10min.html\n",
    "- PythonユーザのためのJupyter[実践]入門: http://amzn.to/2wReYRM\n",
    "- Python Data Science Handbook (Web 英語): https://jakevdp.github.io/PythonDataScienceHandbook/index.html"
   ]
  },
  {
   "cell_type": "markdown",
   "metadata": {},
   "source": [
    "# 事前準備の確認\n",
    "必要になるライブラリのインポートを行い、インストールが完了しているか確認します。"
   ]
  },
  {
   "cell_type": "code",
   "execution_count": 1,
   "metadata": {},
   "outputs": [
    {
     "name": "stdout",
     "output_type": "stream",
     "text": [
      "Python 3.6.1\r\n"
     ]
    }
   ],
   "source": [
    "!python -V"
   ]
  },
  {
   "cell_type": "code",
   "execution_count": 2,
   "metadata": {},
   "outputs": [],
   "source": [
    "import numpy as np  # NumPyの呼び出し"
   ]
  },
  {
   "cell_type": "code",
   "execution_count": 3,
   "metadata": {},
   "outputs": [],
   "source": [
    "import pandas as pd  # pandasの呼び出し"
   ]
  },
  {
   "cell_type": "code",
   "execution_count": 4,
   "metadata": {},
   "outputs": [],
   "source": [
    "import scipy"
   ]
  },
  {
   "cell_type": "code",
   "execution_count": 5,
   "metadata": {},
   "outputs": [],
   "source": [
    "import matplotlib.pyplot as plt # matplotlibの呼び出し"
   ]
  },
  {
   "cell_type": "code",
   "execution_count": null,
   "metadata": {},
   "outputs": [],
   "source": []
  },
  {
   "cell_type": "code",
   "execution_count": null,
   "metadata": {},
   "outputs": [],
   "source": []
  }
 ],
 "metadata": {
  "kernelspec": {
   "display_name": "Python 3",
   "language": "python",
   "name": "python3"
  },
  "language_info": {
   "codemirror_mode": {
    "name": "ipython",
    "version": 3
   },
   "file_extension": ".py",
   "mimetype": "text/x-python",
   "name": "python",
   "nbconvert_exporter": "python",
   "pygments_lexer": "ipython3",
   "version": "3.6.3"
  }
 },
 "nbformat": 4,
 "nbformat_minor": 2
}
